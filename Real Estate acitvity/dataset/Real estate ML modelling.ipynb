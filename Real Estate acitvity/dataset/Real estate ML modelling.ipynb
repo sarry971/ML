{
 "cells": [
  {
   "cell_type": "markdown",
   "metadata": {},
   "source": [
    "# CSE 4020 Machine Learning\n",
    "## Lab Assignment - 3 \n",
    "\n",
    "## Team - 8 (Greece and Italy)\n",
    "### Saurav Rauniyar (18BCE2482)\n",
    "\n",
    "                Group Discussion link : "
   ]
  },
  {
   "cell_type": "code",
   "execution_count": 1,
   "metadata": {},
   "outputs": [],
   "source": [
    "import pandas as pd\n",
    "import numpy as np \n",
    "import joblib\n",
    "from sklearn.preprocessing import LabelEncoder\n",
    "from sklearn.linear_model import LinearRegression\n",
    "from sklearn.preprocessing import OneHotEncoder\n",
    "from sklearn.metrics import r2_score\n",
    "from sklearn.model_selection import train_test_split\n",
    "from sklearn.compose import ColumnTransformer"
   ]
  },
  {
   "cell_type": "markdown",
   "metadata": {},
   "source": [
    "# Loading the dataset"
   ]
  },
  {
   "cell_type": "code",
   "execution_count": 2,
   "metadata": {},
   "outputs": [],
   "source": [
    "data = pd.read_csv('../Downloads/dataset.csv')\n",
    "X = data.iloc[:,1:-1].values\n",
    "y = data.iloc[:,6].values"
   ]
  },
  {
   "cell_type": "code",
   "execution_count": 3,
   "metadata": {},
   "outputs": [
    {
     "data": {
      "text/html": [
       "<div>\n",
       "<style scoped>\n",
       "    .dataframe tbody tr th:only-of-type {\n",
       "        vertical-align: middle;\n",
       "    }\n",
       "\n",
       "    .dataframe tbody tr th {\n",
       "        vertical-align: top;\n",
       "    }\n",
       "\n",
       "    .dataframe thead th {\n",
       "        text-align: right;\n",
       "    }\n",
       "</style>\n",
       "<table border=\"1\" class=\"dataframe\">\n",
       "  <thead>\n",
       "    <tr style=\"text-align: right;\">\n",
       "      <th></th>\n",
       "      <th>Area</th>\n",
       "      <th>place</th>\n",
       "      <th>Bedrooms</th>\n",
       "      <th>Bathrooms</th>\n",
       "      <th>Interiorarea</th>\n",
       "      <th>exteriorarea</th>\n",
       "      <th>Price</th>\n",
       "    </tr>\n",
       "  </thead>\n",
       "  <tbody>\n",
       "    <tr>\n",
       "      <th>0</th>\n",
       "      <td>Aleomandra, Casa Reale Mykonos, Southern Aegean</td>\n",
       "      <td>Greece</td>\n",
       "      <td>10</td>\n",
       "      <td>10</td>\n",
       "      <td>11840</td>\n",
       "      <td>0.99</td>\n",
       "      <td>14349994</td>\n",
       "    </tr>\n",
       "    <tr>\n",
       "      <th>1</th>\n",
       "      <td>Santa Maria, Alcaeus Paros, Southern Aegean</td>\n",
       "      <td>Greece</td>\n",
       "      <td>8</td>\n",
       "      <td>8</td>\n",
       "      <td>3552</td>\n",
       "      <td>2.47</td>\n",
       "      <td>12161012</td>\n",
       "    </tr>\n",
       "    <tr>\n",
       "      <th>2</th>\n",
       "      <td>Ftelia, Alira Mykonos, Southern Aegean</td>\n",
       "      <td>Greece</td>\n",
       "      <td>26</td>\n",
       "      <td>30</td>\n",
       "      <td>15069</td>\n",
       "      <td>2.72</td>\n",
       "      <td>12161012</td>\n",
       "    </tr>\n",
       "    <tr>\n",
       "      <th>3</th>\n",
       "      <td>Santa Maria, Sappho Paros, Southern Aegean Par...</td>\n",
       "      <td>Greece</td>\n",
       "      <td>7</td>\n",
       "      <td>6</td>\n",
       "      <td>3552</td>\n",
       "      <td>2.51</td>\n",
       "      <td>12161012</td>\n",
       "    </tr>\n",
       "    <tr>\n",
       "      <th>4</th>\n",
       "      <td>Pirgi, Chateau Mykonos, Southern Aegean</td>\n",
       "      <td>Greece</td>\n",
       "      <td>17</td>\n",
       "      <td>17</td>\n",
       "      <td>13993</td>\n",
       "      <td>2.47</td>\n",
       "      <td>12039402</td>\n",
       "    </tr>\n",
       "  </tbody>\n",
       "</table>\n",
       "</div>"
      ],
      "text/plain": [
       "                                                Area   place  Bedrooms  \\\n",
       "0    Aleomandra, Casa Reale Mykonos, Southern Aegean  Greece        10   \n",
       "1        Santa Maria, Alcaeus Paros, Southern Aegean  Greece         8   \n",
       "2             Ftelia, Alira Mykonos, Southern Aegean  Greece        26   \n",
       "3  Santa Maria, Sappho Paros, Southern Aegean Par...  Greece         7   \n",
       "4            Pirgi, Chateau Mykonos, Southern Aegean  Greece        17   \n",
       "\n",
       "   Bathrooms  Interiorarea  exteriorarea     Price  \n",
       "0         10         11840          0.99  14349994  \n",
       "1          8          3552          2.47  12161012  \n",
       "2         30         15069          2.72  12161012  \n",
       "3          6          3552          2.51  12161012  \n",
       "4         17         13993          2.47  12039402  "
      ]
     },
     "execution_count": 3,
     "metadata": {},
     "output_type": "execute_result"
    }
   ],
   "source": [
    "data.head()"
   ]
  },
  {
   "cell_type": "code",
   "execution_count": 4,
   "metadata": {},
   "outputs": [
    {
     "data": {
      "text/plain": [
       "(25, 7)"
      ]
     },
     "execution_count": 4,
     "metadata": {},
     "output_type": "execute_result"
    }
   ],
   "source": [
    "data.shape"
   ]
  },
  {
   "cell_type": "code",
   "execution_count": 5,
   "metadata": {},
   "outputs": [
    {
     "data": {
      "text/plain": [
       "array([14349994, 12161012, 12161012, 12161012, 12039402, 11917792,\n",
       "       11917792, 10701690,  9242369,  9120759,  9120759, 24322024,\n",
       "       23105922, 23105922, 20673720, 18241518,  9120759,  9120759,\n",
       "       10336860, 11917792, 18241518, 17025417, 17025417, 16417366,\n",
       "       15809315], dtype=int64)"
      ]
     },
     "execution_count": 5,
     "metadata": {},
     "output_type": "execute_result"
    }
   ],
   "source": [
    "y"
   ]
  },
  {
   "cell_type": "code",
   "execution_count": 6,
   "metadata": {},
   "outputs": [
    {
     "data": {
      "text/plain": [
       "array([['Greece', 10, 10, 11840, 0.99],\n",
       "       ['Greece', 8, 8, 3552, 2.47],\n",
       "       ['Greece', 26, 30, 15069, 2.72],\n",
       "       ['Greece', 7, 6, 3552, 2.51],\n",
       "       ['Greece', 17, 17, 13993, 2.47],\n",
       "       ['Greece', 7, 7, 7534, 1.0],\n",
       "       ['Greece', 6, 7, 7750, 99.34],\n",
       "       ['Greece', 9, 11, 7534, 0.99],\n",
       "       ['Greece', 14, 14, 8611, 2.05],\n",
       "       ['Greece', 8, 8, 7104, 0.99],\n",
       "       ['Greece', 8, 12, 14531, 0.23],\n",
       "       ['Italy', 10, 5, 12701, 0.0],\n",
       "       ['Italy', 11, 9, 53819, 12.36],\n",
       "       ['Italy', 70, 80, 123784, 2223.95],\n",
       "       ['Italy', 35, 16, 48437, 98.84],\n",
       "       ['Italy', 6, 9, 10225, 0.0],\n",
       "       ['Italy', 8, 12, 14531, 0.23],\n",
       "       ['Italy', 8, 8, 7104, 0.99],\n",
       "       ['Greece', 7, 9, 7534, 8.22],\n",
       "       ['Greece', 7, 8, 7534, 1.0],\n",
       "       ['Italy', 7, 8, 9149, 0.0],\n",
       "       ['Italy', 15, 10, 168508, 0.0],\n",
       "       ['Italy', 19, 21, 43055, 291.58],\n",
       "       ['Italy', 17, 17, 32291, 79.07],\n",
       "       ['Italy', 80, 80, 170693, 1687.73]], dtype=object)"
      ]
     },
     "execution_count": 6,
     "metadata": {},
     "output_type": "execute_result"
    }
   ],
   "source": [
    "X"
   ]
  },
  {
   "cell_type": "code",
   "execution_count": 7,
   "metadata": {},
   "outputs": [
    {
     "name": "stdout",
     "output_type": "stream",
     "text": [
      "<class 'pandas.core.frame.DataFrame'>\n",
      "RangeIndex: 25 entries, 0 to 24\n",
      "Data columns (total 7 columns):\n",
      " #   Column        Non-Null Count  Dtype  \n",
      "---  ------        --------------  -----  \n",
      " 0   Area          25 non-null     object \n",
      " 1   place         25 non-null     object \n",
      " 2   Bedrooms      25 non-null     int64  \n",
      " 3   Bathrooms     25 non-null     int64  \n",
      " 4   Interiorarea  25 non-null     int64  \n",
      " 5   exteriorarea  25 non-null     float64\n",
      " 6   Price         25 non-null     int64  \n",
      "dtypes: float64(1), int64(4), object(2)\n",
      "memory usage: 1.5+ KB\n"
     ]
    }
   ],
   "source": [
    "data.info()"
   ]
  },
  {
   "cell_type": "code",
   "execution_count": 8,
   "metadata": {},
   "outputs": [
    {
     "data": {
      "text/html": [
       "<div>\n",
       "<style scoped>\n",
       "    .dataframe tbody tr th:only-of-type {\n",
       "        vertical-align: middle;\n",
       "    }\n",
       "\n",
       "    .dataframe tbody tr th {\n",
       "        vertical-align: top;\n",
       "    }\n",
       "\n",
       "    .dataframe thead th {\n",
       "        text-align: right;\n",
       "    }\n",
       "</style>\n",
       "<table border=\"1\" class=\"dataframe\">\n",
       "  <thead>\n",
       "    <tr style=\"text-align: right;\">\n",
       "      <th></th>\n",
       "      <th>Bedrooms</th>\n",
       "      <th>Bathrooms</th>\n",
       "      <th>Interiorarea</th>\n",
       "      <th>exteriorarea</th>\n",
       "      <th>Price</th>\n",
       "    </tr>\n",
       "  </thead>\n",
       "  <tbody>\n",
       "    <tr>\n",
       "      <th>count</th>\n",
       "      <td>25.000000</td>\n",
       "      <td>25.000000</td>\n",
       "      <td>25.000000</td>\n",
       "      <td>25.000000</td>\n",
       "      <td>2.500000e+01</td>\n",
       "    </tr>\n",
       "    <tr>\n",
       "      <th>mean</th>\n",
       "      <td>16.800000</td>\n",
       "      <td>16.880000</td>\n",
       "      <td>32417.400000</td>\n",
       "      <td>180.789200</td>\n",
       "      <td>1.437432e+07</td>\n",
       "    </tr>\n",
       "    <tr>\n",
       "      <th>std</th>\n",
       "      <td>18.867962</td>\n",
       "      <td>19.768072</td>\n",
       "      <td>48538.110834</td>\n",
       "      <td>543.462395</td>\n",
       "      <td>4.770130e+06</td>\n",
       "    </tr>\n",
       "    <tr>\n",
       "      <th>min</th>\n",
       "      <td>6.000000</td>\n",
       "      <td>5.000000</td>\n",
       "      <td>3552.000000</td>\n",
       "      <td>0.000000</td>\n",
       "      <td>9.120759e+06</td>\n",
       "    </tr>\n",
       "    <tr>\n",
       "      <th>25%</th>\n",
       "      <td>7.000000</td>\n",
       "      <td>8.000000</td>\n",
       "      <td>7534.000000</td>\n",
       "      <td>0.990000</td>\n",
       "      <td>1.070169e+07</td>\n",
       "    </tr>\n",
       "    <tr>\n",
       "      <th>50%</th>\n",
       "      <td>9.000000</td>\n",
       "      <td>10.000000</td>\n",
       "      <td>11840.000000</td>\n",
       "      <td>2.050000</td>\n",
       "      <td>1.216101e+07</td>\n",
       "    </tr>\n",
       "    <tr>\n",
       "      <th>75%</th>\n",
       "      <td>17.000000</td>\n",
       "      <td>16.000000</td>\n",
       "      <td>32291.000000</td>\n",
       "      <td>12.360000</td>\n",
       "      <td>1.702542e+07</td>\n",
       "    </tr>\n",
       "    <tr>\n",
       "      <th>max</th>\n",
       "      <td>80.000000</td>\n",
       "      <td>80.000000</td>\n",
       "      <td>170693.000000</td>\n",
       "      <td>2223.950000</td>\n",
       "      <td>2.432202e+07</td>\n",
       "    </tr>\n",
       "  </tbody>\n",
       "</table>\n",
       "</div>"
      ],
      "text/plain": [
       "        Bedrooms  Bathrooms   Interiorarea  exteriorarea         Price\n",
       "count  25.000000  25.000000      25.000000     25.000000  2.500000e+01\n",
       "mean   16.800000  16.880000   32417.400000    180.789200  1.437432e+07\n",
       "std    18.867962  19.768072   48538.110834    543.462395  4.770130e+06\n",
       "min     6.000000   5.000000    3552.000000      0.000000  9.120759e+06\n",
       "25%     7.000000   8.000000    7534.000000      0.990000  1.070169e+07\n",
       "50%     9.000000  10.000000   11840.000000      2.050000  1.216101e+07\n",
       "75%    17.000000  16.000000   32291.000000     12.360000  1.702542e+07\n",
       "max    80.000000  80.000000  170693.000000   2223.950000  2.432202e+07"
      ]
     },
     "execution_count": 8,
     "metadata": {},
     "output_type": "execute_result"
    }
   ],
   "source": [
    "data.describe()"
   ]
  },
  {
   "cell_type": "code",
   "execution_count": 9,
   "metadata": {},
   "outputs": [
    {
     "data": {
      "text/html": [
       "<div>\n",
       "<style scoped>\n",
       "    .dataframe tbody tr th:only-of-type {\n",
       "        vertical-align: middle;\n",
       "    }\n",
       "\n",
       "    .dataframe tbody tr th {\n",
       "        vertical-align: top;\n",
       "    }\n",
       "\n",
       "    .dataframe thead th {\n",
       "        text-align: right;\n",
       "    }\n",
       "</style>\n",
       "<table border=\"1\" class=\"dataframe\">\n",
       "  <thead>\n",
       "    <tr style=\"text-align: right;\">\n",
       "      <th></th>\n",
       "      <th>Greece</th>\n",
       "      <th>Italy</th>\n",
       "    </tr>\n",
       "  </thead>\n",
       "  <tbody>\n",
       "    <tr>\n",
       "      <th>0</th>\n",
       "      <td>1</td>\n",
       "      <td>0</td>\n",
       "    </tr>\n",
       "    <tr>\n",
       "      <th>1</th>\n",
       "      <td>1</td>\n",
       "      <td>0</td>\n",
       "    </tr>\n",
       "    <tr>\n",
       "      <th>2</th>\n",
       "      <td>1</td>\n",
       "      <td>0</td>\n",
       "    </tr>\n",
       "    <tr>\n",
       "      <th>3</th>\n",
       "      <td>1</td>\n",
       "      <td>0</td>\n",
       "    </tr>\n",
       "    <tr>\n",
       "      <th>4</th>\n",
       "      <td>1</td>\n",
       "      <td>0</td>\n",
       "    </tr>\n",
       "    <tr>\n",
       "      <th>5</th>\n",
       "      <td>1</td>\n",
       "      <td>0</td>\n",
       "    </tr>\n",
       "    <tr>\n",
       "      <th>6</th>\n",
       "      <td>1</td>\n",
       "      <td>0</td>\n",
       "    </tr>\n",
       "    <tr>\n",
       "      <th>7</th>\n",
       "      <td>1</td>\n",
       "      <td>0</td>\n",
       "    </tr>\n",
       "    <tr>\n",
       "      <th>8</th>\n",
       "      <td>1</td>\n",
       "      <td>0</td>\n",
       "    </tr>\n",
       "    <tr>\n",
       "      <th>9</th>\n",
       "      <td>1</td>\n",
       "      <td>0</td>\n",
       "    </tr>\n",
       "    <tr>\n",
       "      <th>10</th>\n",
       "      <td>1</td>\n",
       "      <td>0</td>\n",
       "    </tr>\n",
       "    <tr>\n",
       "      <th>11</th>\n",
       "      <td>0</td>\n",
       "      <td>1</td>\n",
       "    </tr>\n",
       "    <tr>\n",
       "      <th>12</th>\n",
       "      <td>0</td>\n",
       "      <td>1</td>\n",
       "    </tr>\n",
       "    <tr>\n",
       "      <th>13</th>\n",
       "      <td>0</td>\n",
       "      <td>1</td>\n",
       "    </tr>\n",
       "    <tr>\n",
       "      <th>14</th>\n",
       "      <td>0</td>\n",
       "      <td>1</td>\n",
       "    </tr>\n",
       "    <tr>\n",
       "      <th>15</th>\n",
       "      <td>0</td>\n",
       "      <td>1</td>\n",
       "    </tr>\n",
       "    <tr>\n",
       "      <th>16</th>\n",
       "      <td>0</td>\n",
       "      <td>1</td>\n",
       "    </tr>\n",
       "    <tr>\n",
       "      <th>17</th>\n",
       "      <td>0</td>\n",
       "      <td>1</td>\n",
       "    </tr>\n",
       "    <tr>\n",
       "      <th>18</th>\n",
       "      <td>1</td>\n",
       "      <td>0</td>\n",
       "    </tr>\n",
       "    <tr>\n",
       "      <th>19</th>\n",
       "      <td>1</td>\n",
       "      <td>0</td>\n",
       "    </tr>\n",
       "    <tr>\n",
       "      <th>20</th>\n",
       "      <td>0</td>\n",
       "      <td>1</td>\n",
       "    </tr>\n",
       "    <tr>\n",
       "      <th>21</th>\n",
       "      <td>0</td>\n",
       "      <td>1</td>\n",
       "    </tr>\n",
       "    <tr>\n",
       "      <th>22</th>\n",
       "      <td>0</td>\n",
       "      <td>1</td>\n",
       "    </tr>\n",
       "    <tr>\n",
       "      <th>23</th>\n",
       "      <td>0</td>\n",
       "      <td>1</td>\n",
       "    </tr>\n",
       "    <tr>\n",
       "      <th>24</th>\n",
       "      <td>0</td>\n",
       "      <td>1</td>\n",
       "    </tr>\n",
       "  </tbody>\n",
       "</table>\n",
       "</div>"
      ],
      "text/plain": [
       "    Greece  Italy\n",
       "0        1      0\n",
       "1        1      0\n",
       "2        1      0\n",
       "3        1      0\n",
       "4        1      0\n",
       "5        1      0\n",
       "6        1      0\n",
       "7        1      0\n",
       "8        1      0\n",
       "9        1      0\n",
       "10       1      0\n",
       "11       0      1\n",
       "12       0      1\n",
       "13       0      1\n",
       "14       0      1\n",
       "15       0      1\n",
       "16       0      1\n",
       "17       0      1\n",
       "18       1      0\n",
       "19       1      0\n",
       "20       0      1\n",
       "21       0      1\n",
       "22       0      1\n",
       "23       0      1\n",
       "24       0      1"
      ]
     },
     "execution_count": 9,
     "metadata": {},
     "output_type": "execute_result"
    }
   ],
   "source": [
    "dummies = pd.get_dummies(data.place)\n",
    "dummies"
   ]
  },
  {
   "cell_type": "code",
   "execution_count": 10,
   "metadata": {},
   "outputs": [],
   "source": [
    "#setting Greece and Italy to'1' and '0' as shown above.\n",
    "ct = ColumnTransformer([(\"place\", OneHotEncoder(), [0])], remainder = 'passthrough')\n",
    "X = ct.fit_transform(X)"
   ]
  },
  {
   "cell_type": "code",
   "execution_count": 11,
   "metadata": {},
   "outputs": [
    {
     "data": {
      "text/plain": [
       "array([[1.0, 0.0, 10, 10, 11840, 0.99],\n",
       "       [1.0, 0.0, 8, 8, 3552, 2.47],\n",
       "       [1.0, 0.0, 26, 30, 15069, 2.72],\n",
       "       [1.0, 0.0, 7, 6, 3552, 2.51],\n",
       "       [1.0, 0.0, 17, 17, 13993, 2.47],\n",
       "       [1.0, 0.0, 7, 7, 7534, 1.0],\n",
       "       [1.0, 0.0, 6, 7, 7750, 99.34],\n",
       "       [1.0, 0.0, 9, 11, 7534, 0.99],\n",
       "       [1.0, 0.0, 14, 14, 8611, 2.05],\n",
       "       [1.0, 0.0, 8, 8, 7104, 0.99],\n",
       "       [1.0, 0.0, 8, 12, 14531, 0.23],\n",
       "       [0.0, 1.0, 10, 5, 12701, 0.0],\n",
       "       [0.0, 1.0, 11, 9, 53819, 12.36],\n",
       "       [0.0, 1.0, 70, 80, 123784, 2223.95],\n",
       "       [0.0, 1.0, 35, 16, 48437, 98.84],\n",
       "       [0.0, 1.0, 6, 9, 10225, 0.0],\n",
       "       [0.0, 1.0, 8, 12, 14531, 0.23],\n",
       "       [0.0, 1.0, 8, 8, 7104, 0.99],\n",
       "       [1.0, 0.0, 7, 9, 7534, 8.22],\n",
       "       [1.0, 0.0, 7, 8, 7534, 1.0],\n",
       "       [0.0, 1.0, 7, 8, 9149, 0.0],\n",
       "       [0.0, 1.0, 15, 10, 168508, 0.0],\n",
       "       [0.0, 1.0, 19, 21, 43055, 291.58],\n",
       "       [0.0, 1.0, 17, 17, 32291, 79.07],\n",
       "       [0.0, 1.0, 80, 80, 170693, 1687.73]], dtype=object)"
      ]
     },
     "execution_count": 11,
     "metadata": {},
     "output_type": "execute_result"
    }
   ],
   "source": [
    "X"
   ]
  },
  {
   "cell_type": "markdown",
   "metadata": {},
   "source": [
    "# TRAIN, TEST, SPLIT "
   ]
  },
  {
   "cell_type": "code",
   "execution_count": 12,
   "metadata": {},
   "outputs": [],
   "source": [
    "\n",
    "X_train,  X_test, y_train, y_test = train_test_split(X,y,test_size= 0.2, random_state =0)"
   ]
  },
  {
   "cell_type": "code",
   "execution_count": 13,
   "metadata": {},
   "outputs": [
    {
     "name": "stdout",
     "output_type": "stream",
     "text": [
      "(20, 6) (5, 6) (20,) (5,)\n"
     ]
    }
   ],
   "source": [
    "print(X_train.shape, X_test.shape, y_train.shape, y_test.shape)"
   ]
  },
  {
   "cell_type": "markdown",
   "metadata": {},
   "source": [
    "# Linear Regression Model"
   ]
  },
  {
   "cell_type": "code",
   "execution_count": 14,
   "metadata": {},
   "outputs": [
    {
     "data": {
      "text/plain": [
       "LinearRegression(copy_X=True, fit_intercept=True, n_jobs=None, normalize=False)"
      ]
     },
     "execution_count": 14,
     "metadata": {},
     "output_type": "execute_result"
    }
   ],
   "source": [
    "#using linear regression model which is present in sklearn library.\n",
    "regression = LinearRegression()\n",
    "regression.fit(X_train, y_train)"
   ]
  },
  {
   "cell_type": "code",
   "execution_count": 15,
   "metadata": {},
   "outputs": [],
   "source": [
    "y_pred = regression.predict(X_test)"
   ]
  },
  {
   "cell_type": "code",
   "execution_count": 16,
   "metadata": {},
   "outputs": [
    {
     "data": {
      "text/plain": [
       "0.19177849111185408"
      ]
     },
     "execution_count": 16,
     "metadata": {},
     "output_type": "execute_result"
    }
   ],
   "source": [
    "r2_score(y_test, y_pred )"
   ]
  },
  {
   "cell_type": "code",
   "execution_count": 17,
   "metadata": {},
   "outputs": [
    {
     "data": {
      "text/html": [
       "<div>\n",
       "<style scoped>\n",
       "    .dataframe tbody tr th:only-of-type {\n",
       "        vertical-align: middle;\n",
       "    }\n",
       "\n",
       "    .dataframe tbody tr th {\n",
       "        vertical-align: top;\n",
       "    }\n",
       "\n",
       "    .dataframe thead th {\n",
       "        text-align: right;\n",
       "    }\n",
       "</style>\n",
       "<table border=\"1\" class=\"dataframe\">\n",
       "  <thead>\n",
       "    <tr style=\"text-align: right;\">\n",
       "      <th></th>\n",
       "      <th>y_test</th>\n",
       "      <th>y_pred</th>\n",
       "    </tr>\n",
       "  </thead>\n",
       "  <tbody>\n",
       "    <tr>\n",
       "      <th>0</th>\n",
       "      <td>11917792</td>\n",
       "      <td>1.196207e+07</td>\n",
       "    </tr>\n",
       "    <tr>\n",
       "      <th>1</th>\n",
       "      <td>12161012</td>\n",
       "      <td>5.365200e+06</td>\n",
       "    </tr>\n",
       "    <tr>\n",
       "      <th>2</th>\n",
       "      <td>11917792</td>\n",
       "      <td>1.151295e+07</td>\n",
       "    </tr>\n",
       "    <tr>\n",
       "      <th>3</th>\n",
       "      <td>9120759</td>\n",
       "      <td>1.547702e+07</td>\n",
       "    </tr>\n",
       "    <tr>\n",
       "      <th>4</th>\n",
       "      <td>24322024</td>\n",
       "      <td>1.900297e+07</td>\n",
       "    </tr>\n",
       "  </tbody>\n",
       "</table>\n",
       "</div>"
      ],
      "text/plain": [
       "     y_test        y_pred\n",
       "0  11917792  1.196207e+07\n",
       "1  12161012  5.365200e+06\n",
       "2  11917792  1.151295e+07\n",
       "3   9120759  1.547702e+07\n",
       "4  24322024  1.900297e+07"
      ]
     },
     "execution_count": 17,
     "metadata": {},
     "output_type": "execute_result"
    }
   ],
   "source": [
    "df = pd.DataFrame(data=y_test, columns = ['y_test'])\n",
    "df['y_pred'] = y_pred\n",
    "df"
   ]
  },
  {
   "cell_type": "markdown",
   "metadata": {},
   "source": [
    "# Sample data for the created model"
   ]
  },
  {
   "cell_type": "code",
   "execution_count": 18,
   "metadata": {},
   "outputs": [
    {
     "name": "stdout",
     "output_type": "stream",
     "text": [
      "The predicted price for house is   8584513.47\n"
     ]
    }
   ],
   "source": [
    "ran_data = [1,0,14,18,45,21]\n",
    "ran_data_arr = np.array(ran_data)\n",
    "ran_data_num = ran_data_arr.reshape(1, -1)\n",
    "pred_single_row = regression.predict(ran_data_num)\n",
    "print (\"The predicted price for house is  \" , round(float(pred_single_row),2))"
   ]
  }
 ],
 "metadata": {
  "kernelspec": {
   "display_name": "Python 3",
   "language": "python",
   "name": "python3"
  },
  "language_info": {
   "codemirror_mode": {
    "name": "ipython",
    "version": 3
   },
   "file_extension": ".py",
   "mimetype": "text/x-python",
   "name": "python",
   "nbconvert_exporter": "python",
   "pygments_lexer": "ipython3",
   "version": "3.7.6"
  }
 },
 "nbformat": 4,
 "nbformat_minor": 4
}
