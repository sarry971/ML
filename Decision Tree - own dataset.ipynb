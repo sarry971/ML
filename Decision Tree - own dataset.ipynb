{
 "cells": [
  {
   "cell_type": "markdown",
   "metadata": {},
   "source": [
    "                                     WINTER SEM 2020\n",
    "                                  CSE 4020 MACHINE LEARNING \n",
    "                                    Digital Assignment-1\n",
    "                                \n",
    "                                   Saurav Rauniyar (18BCE2482)\n"
   ]
  },
  {
   "cell_type": "code",
   "execution_count": 1,
   "metadata": {},
   "outputs": [],
   "source": [
    "import pandas as pd "
   ]
  },
  {
   "cell_type": "code",
   "execution_count": 2,
   "metadata": {},
   "outputs": [],
   "source": [
    "#reading the dataset\n",
    "trek= pd.read_csv(\"trek.csv\",sep=\",\",encoding='cp1256')"
   ]
  },
  {
   "cell_type": "markdown",
   "metadata": {},
   "source": [
    "# People tend to go for trekking without considering the fact that whether it is suitable for them to go or not. Recently there were news regarding the tourist getting lost during trekking. So, this ML model is built for the safety of the tourist and whether it is good to go for trekking based on the important features that has been mentioned in the dataset, this will give them an insight of of whether it is good to go for the particular place for trekking.\n",
    "\n",
    "## here the dataset predicts either it is good to go for trekking or not based on the on the predictor variables.\n",
    "\n",
    "## references : https://www.kimkim.com/c/the-10-best-classic-treks-in-nepal"
   ]
  },
  {
   "cell_type": "code",
   "execution_count": 3,
   "metadata": {},
   "outputs": [
    {
     "data": {
      "text/html": [
       "<div>\n",
       "<style scoped>\n",
       "    .dataframe tbody tr th:only-of-type {\n",
       "        vertical-align: middle;\n",
       "    }\n",
       "\n",
       "    .dataframe tbody tr th {\n",
       "        vertical-align: top;\n",
       "    }\n",
       "\n",
       "    .dataframe thead th {\n",
       "        text-align: right;\n",
       "    }\n",
       "</style>\n",
       "<table border=\"1\" class=\"dataframe\">\n",
       "  <thead>\n",
       "    <tr style=\"text-align: right;\">\n",
       "      <th></th>\n",
       "      <th>Trek Place</th>\n",
       "      <th>Max Duration</th>\n",
       "      <th>Trek Style</th>\n",
       "      <th>Trip Cost</th>\n",
       "      <th>Difficulty</th>\n",
       "      <th>Group (&gt;=5)</th>\n",
       "      <th>Good to Go</th>\n",
       "    </tr>\n",
       "  </thead>\n",
       "  <tbody>\n",
       "    <tr>\n",
       "      <th>0</th>\n",
       "      <td>Everest Three Passes Trek</td>\n",
       "      <td>36</td>\n",
       "      <td>Teahouse</td>\n",
       "      <td>100K</td>\n",
       "      <td>Challenging</td>\n",
       "      <td>Yes</td>\n",
       "      <td>Yes</td>\n",
       "    </tr>\n",
       "    <tr>\n",
       "      <th>1</th>\n",
       "      <td>Manaslu Circuit Trek</td>\n",
       "      <td>26</td>\n",
       "      <td>Teahouse</td>\n",
       "      <td>110K</td>\n",
       "      <td>Challenging</td>\n",
       "      <td>Yes</td>\n",
       "      <td>No</td>\n",
       "    </tr>\n",
       "    <tr>\n",
       "      <th>2</th>\n",
       "      <td>Langtang Trek</td>\n",
       "      <td>14</td>\n",
       "      <td>Teahouse</td>\n",
       "      <td>96K</td>\n",
       "      <td>Moderate</td>\n",
       "      <td>No</td>\n",
       "      <td>Yes</td>\n",
       "    </tr>\n",
       "    <tr>\n",
       "      <th>3</th>\n",
       "      <td>Annapurna Base Camp</td>\n",
       "      <td>24</td>\n",
       "      <td>Teahouse</td>\n",
       "      <td>140K</td>\n",
       "      <td>Moderate</td>\n",
       "      <td>Yes</td>\n",
       "      <td>No</td>\n",
       "    </tr>\n",
       "    <tr>\n",
       "      <th>4</th>\n",
       "      <td>Upper Mustang Trek</td>\n",
       "      <td>24</td>\n",
       "      <td>Teahouse</td>\n",
       "      <td>120K</td>\n",
       "      <td>Moderate</td>\n",
       "      <td>Yes</td>\n",
       "      <td>Yes</td>\n",
       "    </tr>\n",
       "  </tbody>\n",
       "</table>\n",
       "</div>"
      ],
      "text/plain": [
       "                  Trek Place  Max Duration Trek Style Trip Cost   Difficulty  \\\n",
       "0  Everest Three Passes Trek            36   Teahouse      100K  Challenging   \n",
       "1       Manaslu Circuit Trek            26   Teahouse      110K  Challenging   \n",
       "2              Langtang Trek            14   Teahouse       96K     Moderate   \n",
       "3        Annapurna Base Camp            24   Teahouse      140K     Moderate   \n",
       "4         Upper Mustang Trek            24   Teahouse      120K     Moderate   \n",
       "\n",
       "  Group (>=5) Good to Go  \n",
       "0         Yes       Yes   \n",
       "1         Yes        No   \n",
       "2          No       Yes   \n",
       "3         Yes        No   \n",
       "4         Yes       Yes   "
      ]
     },
     "execution_count": 3,
     "metadata": {},
     "output_type": "execute_result"
    }
   ],
   "source": [
    "#peek at the dataset\n",
    "trek.head()"
   ]
  },
  {
   "cell_type": "code",
   "execution_count": 4,
   "metadata": {},
   "outputs": [
    {
     "data": {
      "text/plain": [
       "['Trek Place',\n",
       " 'Max Duration',\n",
       " 'Trek Style',\n",
       " 'Trip Cost',\n",
       " 'Difficulty',\n",
       " 'Group (>=5)']"
      ]
     },
     "execution_count": 4,
     "metadata": {},
     "output_type": "execute_result"
    }
   ],
   "source": [
    "#Work with X (Predictor Variables)\n",
    "X_features = list(trek.columns)\n",
    "X_features.remove('Good to Go')\n",
    "X_features"
   ]
  },
  {
   "cell_type": "code",
   "execution_count": 5,
   "metadata": {},
   "outputs": [],
   "source": [
    "#target variables\n",
    "Y_features = trek['Good to Go']"
   ]
  },
  {
   "cell_type": "code",
   "execution_count": 6,
   "metadata": {},
   "outputs": [],
   "source": [
    "#Encode the Categorical Varisbles\n",
    "encode_trek_df = pd.get_dummies(trek[X_features])"
   ]
  },
  {
   "cell_type": "code",
   "execution_count": 7,
   "metadata": {},
   "outputs": [
    {
     "data": {
      "text/html": [
       "<div>\n",
       "<style scoped>\n",
       "    .dataframe tbody tr th:only-of-type {\n",
       "        vertical-align: middle;\n",
       "    }\n",
       "\n",
       "    .dataframe tbody tr th {\n",
       "        vertical-align: top;\n",
       "    }\n",
       "\n",
       "    .dataframe thead th {\n",
       "        text-align: right;\n",
       "    }\n",
       "</style>\n",
       "<table border=\"1\" class=\"dataframe\">\n",
       "  <thead>\n",
       "    <tr style=\"text-align: right;\">\n",
       "      <th></th>\n",
       "      <th>Max Duration</th>\n",
       "      <th>Trek Place_Annapurna Base Camp</th>\n",
       "      <th>Trek Place_Annapurna Circuit Trek</th>\n",
       "      <th>Trek Place_Dhaulagiri Circuit Trek</th>\n",
       "      <th>Trek Place_Everest Base Camp Trek</th>\n",
       "      <th>Trek Place_Everest Three Passes Trek</th>\n",
       "      <th>Trek Place_Gokyo Lake Trek</th>\n",
       "      <th>Trek Place_Langtang Trek</th>\n",
       "      <th>Trek Place_Manaslu Circuit Trek</th>\n",
       "      <th>Trek Place_Nar Phu Valley Trek</th>\n",
       "      <th>...</th>\n",
       "      <th>Trip Cost_140K</th>\n",
       "      <th>Trip Cost_60K</th>\n",
       "      <th>Trip Cost_70K</th>\n",
       "      <th>Trip Cost_80K</th>\n",
       "      <th>Trip Cost_96K</th>\n",
       "      <th>Difficulty_Challenging</th>\n",
       "      <th>Difficulty_Moderate</th>\n",
       "      <th>Difficulty_Very Challenging</th>\n",
       "      <th>Group (&gt;=5)_No</th>\n",
       "      <th>Group (&gt;=5)_Yes</th>\n",
       "    </tr>\n",
       "  </thead>\n",
       "  <tbody>\n",
       "    <tr>\n",
       "      <th>0</th>\n",
       "      <td>36</td>\n",
       "      <td>0</td>\n",
       "      <td>0</td>\n",
       "      <td>0</td>\n",
       "      <td>0</td>\n",
       "      <td>1</td>\n",
       "      <td>0</td>\n",
       "      <td>0</td>\n",
       "      <td>0</td>\n",
       "      <td>0</td>\n",
       "      <td>...</td>\n",
       "      <td>0</td>\n",
       "      <td>0</td>\n",
       "      <td>0</td>\n",
       "      <td>0</td>\n",
       "      <td>0</td>\n",
       "      <td>1</td>\n",
       "      <td>0</td>\n",
       "      <td>0</td>\n",
       "      <td>0</td>\n",
       "      <td>1</td>\n",
       "    </tr>\n",
       "    <tr>\n",
       "      <th>1</th>\n",
       "      <td>26</td>\n",
       "      <td>0</td>\n",
       "      <td>0</td>\n",
       "      <td>0</td>\n",
       "      <td>0</td>\n",
       "      <td>0</td>\n",
       "      <td>0</td>\n",
       "      <td>0</td>\n",
       "      <td>1</td>\n",
       "      <td>0</td>\n",
       "      <td>...</td>\n",
       "      <td>0</td>\n",
       "      <td>0</td>\n",
       "      <td>0</td>\n",
       "      <td>0</td>\n",
       "      <td>0</td>\n",
       "      <td>1</td>\n",
       "      <td>0</td>\n",
       "      <td>0</td>\n",
       "      <td>0</td>\n",
       "      <td>1</td>\n",
       "    </tr>\n",
       "    <tr>\n",
       "      <th>2</th>\n",
       "      <td>14</td>\n",
       "      <td>0</td>\n",
       "      <td>0</td>\n",
       "      <td>0</td>\n",
       "      <td>0</td>\n",
       "      <td>0</td>\n",
       "      <td>0</td>\n",
       "      <td>1</td>\n",
       "      <td>0</td>\n",
       "      <td>0</td>\n",
       "      <td>...</td>\n",
       "      <td>0</td>\n",
       "      <td>0</td>\n",
       "      <td>0</td>\n",
       "      <td>0</td>\n",
       "      <td>1</td>\n",
       "      <td>0</td>\n",
       "      <td>1</td>\n",
       "      <td>0</td>\n",
       "      <td>1</td>\n",
       "      <td>0</td>\n",
       "    </tr>\n",
       "    <tr>\n",
       "      <th>3</th>\n",
       "      <td>24</td>\n",
       "      <td>1</td>\n",
       "      <td>0</td>\n",
       "      <td>0</td>\n",
       "      <td>0</td>\n",
       "      <td>0</td>\n",
       "      <td>0</td>\n",
       "      <td>0</td>\n",
       "      <td>0</td>\n",
       "      <td>0</td>\n",
       "      <td>...</td>\n",
       "      <td>1</td>\n",
       "      <td>0</td>\n",
       "      <td>0</td>\n",
       "      <td>0</td>\n",
       "      <td>0</td>\n",
       "      <td>0</td>\n",
       "      <td>1</td>\n",
       "      <td>0</td>\n",
       "      <td>0</td>\n",
       "      <td>1</td>\n",
       "    </tr>\n",
       "    <tr>\n",
       "      <th>4</th>\n",
       "      <td>24</td>\n",
       "      <td>0</td>\n",
       "      <td>0</td>\n",
       "      <td>0</td>\n",
       "      <td>0</td>\n",
       "      <td>0</td>\n",
       "      <td>0</td>\n",
       "      <td>0</td>\n",
       "      <td>0</td>\n",
       "      <td>0</td>\n",
       "      <td>...</td>\n",
       "      <td>0</td>\n",
       "      <td>0</td>\n",
       "      <td>0</td>\n",
       "      <td>0</td>\n",
       "      <td>0</td>\n",
       "      <td>0</td>\n",
       "      <td>1</td>\n",
       "      <td>0</td>\n",
       "      <td>0</td>\n",
       "      <td>1</td>\n",
       "    </tr>\n",
       "  </tbody>\n",
       "</table>\n",
       "<p>5 rows × 26 columns</p>\n",
       "</div>"
      ],
      "text/plain": [
       "   Max Duration  Trek Place_Annapurna Base Camp  \\\n",
       "0            36                               0   \n",
       "1            26                               0   \n",
       "2            14                               0   \n",
       "3            24                               1   \n",
       "4            24                               0   \n",
       "\n",
       "   Trek Place_Annapurna Circuit Trek  Trek Place_Dhaulagiri Circuit Trek  \\\n",
       "0                                  0                                   0   \n",
       "1                                  0                                   0   \n",
       "2                                  0                                   0   \n",
       "3                                  0                                   0   \n",
       "4                                  0                                   0   \n",
       "\n",
       "   Trek Place_Everest Base Camp Trek  Trek Place_Everest Three Passes Trek  \\\n",
       "0                                  0                                     1   \n",
       "1                                  0                                     0   \n",
       "2                                  0                                     0   \n",
       "3                                  0                                     0   \n",
       "4                                  0                                     0   \n",
       "\n",
       "   Trek Place_Gokyo Lake Trek  Trek Place_Langtang Trek  \\\n",
       "0                           0                         0   \n",
       "1                           0                         0   \n",
       "2                           0                         1   \n",
       "3                           0                         0   \n",
       "4                           0                         0   \n",
       "\n",
       "   Trek Place_Manaslu Circuit Trek  Trek Place_Nar Phu Valley Trek  ...  \\\n",
       "0                                0                               0  ...   \n",
       "1                                1                               0  ...   \n",
       "2                                0                               0  ...   \n",
       "3                                0                               0  ...   \n",
       "4                                0                               0  ...   \n",
       "\n",
       "   Trip Cost_140K  Trip Cost_60K  Trip Cost_70K  Trip Cost_80K  Trip Cost_96K  \\\n",
       "0               0              0              0              0              0   \n",
       "1               0              0              0              0              0   \n",
       "2               0              0              0              0              1   \n",
       "3               1              0              0              0              0   \n",
       "4               0              0              0              0              0   \n",
       "\n",
       "   Difficulty_Challenging  Difficulty_Moderate  Difficulty_Very Challenging  \\\n",
       "0                       1                    0                            0   \n",
       "1                       1                    0                            0   \n",
       "2                       0                    1                            0   \n",
       "3                       0                    1                            0   \n",
       "4                       0                    1                            0   \n",
       "\n",
       "   Group (>=5)_No  Group (>=5)_Yes  \n",
       "0               0                1  \n",
       "1               0                1  \n",
       "2               1                0  \n",
       "3               0                1  \n",
       "4               0                1  \n",
       "\n",
       "[5 rows x 26 columns]"
      ]
     },
     "execution_count": 7,
     "metadata": {},
     "output_type": "execute_result"
    }
   ],
   "source": [
    "encode_trek_df.head()"
   ]
  },
  {
   "cell_type": "code",
   "execution_count": 8,
   "metadata": {},
   "outputs": [],
   "source": [
    "#set the X and Y\n",
    "X = encode_trek_df\n",
    "Y = trek['Good to Go']#.map(lambda x: int(x == 'Yes'))"
   ]
  },
  {
   "cell_type": "code",
   "execution_count": 9,
   "metadata": {},
   "outputs": [
    {
     "data": {
      "text/plain": [
       "0    Yes \n",
       "1     No \n",
       "2    Yes \n",
       "3     No \n",
       "4    Yes \n",
       "5     No \n",
       "6    Yes \n",
       "7     No \n",
       "8    Yes \n",
       "9    Yes \n",
       "Name: Good to Go, dtype: object"
      ]
     },
     "execution_count": 9,
     "metadata": {},
     "output_type": "execute_result"
    }
   ],
   "source": [
    "Y"
   ]
  },
  {
   "cell_type": "code",
   "execution_count": 10,
   "metadata": {},
   "outputs": [],
   "source": [
    "#Split the Dataset\n",
    "from sklearn.model_selection import train_test_split\n",
    "X_train,X_test,Y_train,Y_test = train_test_split(X,Y,test_size = 0.3, random_state = 10)"
   ]
  },
  {
   "cell_type": "code",
   "execution_count": 11,
   "metadata": {},
   "outputs": [
    {
     "data": {
      "text/plain": [
       "((7, 26), (3, 26), (7,), (3,))"
      ]
     },
     "execution_count": 11,
     "metadata": {},
     "output_type": "execute_result"
    }
   ],
   "source": [
    "X_train.shape, X_test.shape, Y_train.shape, Y_test.shape"
   ]
  },
  {
   "cell_type": "code",
   "execution_count": 12,
   "metadata": {},
   "outputs": [],
   "source": [
    "#Build the Decision Tree Classifier\n",
    "from sklearn.tree import DecisionTreeClassifier\n",
    "clf_tree = DecisionTreeClassifier(criterion = \"gini\", max_depth = 3)"
   ]
  },
  {
   "cell_type": "code",
   "execution_count": 13,
   "metadata": {},
   "outputs": [
    {
     "data": {
      "text/plain": [
       "DecisionTreeClassifier(max_depth=3)"
      ]
     },
     "execution_count": 13,
     "metadata": {},
     "output_type": "execute_result"
    }
   ],
   "source": [
    "clf_tree.fit(X_train,Y_train)"
   ]
  },
  {
   "cell_type": "code",
   "execution_count": 14,
   "metadata": {},
   "outputs": [],
   "source": [
    "Y_pred = clf_tree.predict(X_test)"
   ]
  },
  {
   "cell_type": "code",
   "execution_count": 15,
   "metadata": {},
   "outputs": [
    {
     "data": {
      "text/plain": [
       "0.6666666666666666"
      ]
     },
     "execution_count": 15,
     "metadata": {},
     "output_type": "execute_result"
    }
   ],
   "source": [
    "# Accuracy Score\n",
    "clf_tree.score(X_test, Y_test)"
   ]
  },
  {
   "cell_type": "code",
   "execution_count": 18,
   "metadata": {},
   "outputs": [
    {
     "data": {
      "text/plain": [
       "[Text(200.88000000000002, 181.2, 'X[15] <= 0.5\\ngini = 0.49\\nsamples = 7\\nvalue = [3, 4]'),\n",
       " Text(133.92000000000002, 108.72, 'X[0] <= 27.0\\ngini = 0.48\\nsamples = 5\\nvalue = [3, 2]'),\n",
       " Text(66.96000000000001, 36.23999999999998, 'gini = 0.0\\nsamples = 3\\nvalue = [3, 0]'),\n",
       " Text(200.88000000000002, 36.23999999999998, 'gini = 0.0\\nsamples = 2\\nvalue = [0, 2]'),\n",
       " Text(267.84000000000003, 108.72, 'gini = 0.0\\nsamples = 2\\nvalue = [0, 2]')]"
      ]
     },
     "execution_count": 18,
     "metadata": {},
     "output_type": "execute_result"
    },
    {
     "data": {
      "image/png": "[encoded data removed]",
      "text/plain": [
       "<Figure size 432x288 with 1 Axes>"
      ]
     },
     "metadata": {
      "needs_background": "light"
     },
     "output_type": "display_data"
    }
   ],
   "source": [
    "from sklearn.tree import export_graphviz\n",
    "import matplotlib.pyplot as plt \n",
    "from sklearn import tree \n",
    "tree.plot_tree(clf_tree)"
   ]
  },
  {
   "cell_type": "code",
   "execution_count": 17,
   "metadata": {},
   "outputs": [],
   "source": [
    "#Visualizing the tree\n",
    "\n",
    "#pip install graphviz\n",
    "#pip install pydotplus\n",
    "#pip install IPython\n",
    "\n",
    "from sklearn.tree import export_graphviz\n",
    "\n",
    "#Export the tree into odt file ; odt is Text File\n",
    "export_graphviz(clf_tree, out_file = 'dtree.odt', feature_names = X_train.columns, filled = True)\n",
    "\n",
    "import pydotplus as pdot \n",
    "import IPython.display as Image\n",
    "\n",
    "#read and create the image file \n",
    "dtree_graph = pdot.graphviz.graph_from_dot_file('dtree.odt')\n",
    "#dtree_graph.write_graph('dtree.png')"
   ]
  }
 ],
 "metadata": {
  "kernelspec": {
   "display_name": "Python 3",
   "language": "python",
   "name": "python3"
  },
  "language_info": {
   "codemirror_mode": {
    "name": "ipython",
    "version": 3
   },
   "file_extension": ".py",
   "mimetype": "text/x-python",
   "name": "python",
   "nbconvert_exporter": "python",
   "pygments_lexer": "ipython3",
   "version": "3.7.4"
  }
 },
 "nbformat": 4,
 "nbformat_minor": 2
}
